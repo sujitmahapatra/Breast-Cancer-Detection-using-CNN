{
 "cells": [
  {
   "cell_type": "markdown",
   "id": "dbe7d4be",
   "metadata": {},
   "source": [
    "# Import Libraries"
   ]
  },
  {
   "cell_type": "code",
   "execution_count": 2,
   "id": "83c4a2ca",
   "metadata": {},
   "outputs": [],
   "source": [
    "import os\n",
    "import cv2\n",
    "import numpy as np\n",
    "import pandas as pd\n",
    "import joblib\n",
    "from sklearn.svm import SVC\n",
    "from sklearn.model_selection import train_test_split\n",
    "from tensorflow.keras import layers, models\n",
    "from sklearn.metrics import classification_report, confusion_matrix\n",
    "from sklearn.metrics import accuracy_score \n",
    "from tensorflow.keras.models import load_model"
   ]
  },
  {
   "cell_type": "markdown",
   "id": "85e93506",
   "metadata": {},
   "source": [
    "# Load the dataset"
   ]
  },
  {
   "cell_type": "code",
   "execution_count": 3,
   "id": "d382b500",
   "metadata": {},
   "outputs": [],
   "source": [
    "def load_data(folder_path):\n",
    "    images = []\n",
    "    labels = []\n",
    "    label_mapping = {\"healthy\": 0, \"unhealthy\": 1}\n",
    "\n",
    "    for filename in os.listdir(folder_path):\n",
    "        img_path = os.path.join(folder_path, filename)\n",
    "        if os.path.isfile(img_path) and img_path.endswith(('.png', '.jpg', '.jpeg')):\n",
    "            img = cv2.imread(img_path, cv2.IMREAD_GRAYSCALE)\n",
    "            img = cv2.resize(img, (224, 224))\n",
    "            images.append(img)\n",
    "            labels.append(label_mapping[os.path.basename(folder_path)])\n",
    "\n",
    "    return np.array(images), np.array(labels)\n",
    "\n",
    "healthy_folder = \"dataset/healthy\"\n",
    "unhealthy_folder = \"dataset/unhealthy\"\n",
    "\n",
    "healthy_images, healthy_labels = load_data(healthy_folder)\n",
    "unhealthy_images, unhealthy_labels = load_data(unhealthy_folder)"
   ]
  },
  {
   "cell_type": "markdown",
   "id": "6c668928",
   "metadata": {},
   "source": [
    "# Dataset Splitting"
   ]
  },
  {
   "cell_type": "code",
   "execution_count": 4,
   "id": "04e68ec3",
   "metadata": {},
   "outputs": [],
   "source": [
    "# Concatenate healthy and unhealthy data\n",
    "all_images = np.concatenate((healthy_images, unhealthy_images), axis=0)\n",
    "all_labels = np.concatenate((healthy_labels, unhealthy_labels), axis=0)\n",
    "\n",
    "# Split the dataset into training and testing sets\n",
    "X_train, X_test, y_train, y_test = train_test_split(\n",
    "    all_images, all_labels, test_size=0.3, random_state=42\n",
    ")"
   ]
  },
  {
   "cell_type": "markdown",
   "id": "7ccf2ef9",
   "metadata": {},
   "source": [
    "# Build CNN model for feature extraction"
   ]
  },
  {
   "cell_type": "code",
   "execution_count": 5,
   "id": "75c5d811",
   "metadata": {
    "scrolled": true
   },
   "outputs": [],
   "source": [
    "model = models.Sequential()\n",
    "model.add(layers.Conv2D(32, (3, 3), activation=\"relu\", input_shape=(224, 224, 1)))\n",
    "model.add(layers.MaxPooling2D((2, 2)))\n",
    "model.add(layers.Flatten())\n",
    "model.add(layers.Dense(128, activation=\"relu\"))\n",
    "model.add(layers.Dense(1, activation=\"sigmoid\"))\n",
    "\n",
    "# Compile the model\n",
    "model.compile(optimizer=\"adam\", loss=\"binary_crossentropy\", metrics=[\"accuracy\"])"
   ]
  },
  {
   "cell_type": "markdown",
   "id": "8eb3ed84",
   "metadata": {},
   "source": [
    "# Normalize pixel values to be between 0 and 1"
   ]
  },
  {
   "cell_type": "code",
   "execution_count": 6,
   "id": "6cc326c8",
   "metadata": {},
   "outputs": [],
   "source": [
    "X_train = X_train / 255.0\n",
    "X_test = X_test / 255.0"
   ]
  },
  {
   "cell_type": "markdown",
   "id": "ca643bad",
   "metadata": {},
   "source": [
    "# Train the model"
   ]
  },
  {
   "cell_type": "code",
   "execution_count": 7,
   "id": "53b65bfa",
   "metadata": {},
   "outputs": [
    {
     "name": "stdout",
     "output_type": "stream",
     "text": [
      "Epoch 1/10\n",
      "20/20 [==============================] - 25s 1s/step - loss: 0.8830 - accuracy: 0.7209 - val_loss: 0.4115 - val_accuracy: 0.8000\n",
      "Epoch 2/10\n",
      "20/20 [==============================] - 20s 1s/step - loss: 0.2600 - accuracy: 0.9091 - val_loss: 0.4519 - val_accuracy: 0.8667\n",
      "Epoch 3/10\n",
      "20/20 [==============================] - 21s 1s/step - loss: 0.1376 - accuracy: 0.9665 - val_loss: 0.2039 - val_accuracy: 0.9333\n",
      "Epoch 4/10\n",
      "20/20 [==============================] - 21s 1s/step - loss: 0.0628 - accuracy: 0.9888 - val_loss: 0.1486 - val_accuracy: 0.9593\n",
      "Epoch 5/10\n",
      "20/20 [==============================] - 20s 989ms/step - loss: 0.0285 - accuracy: 0.9968 - val_loss: 0.1716 - val_accuracy: 0.9370\n",
      "Epoch 6/10\n",
      "20/20 [==============================] - 20s 995ms/step - loss: 0.0228 - accuracy: 0.9968 - val_loss: 0.1669 - val_accuracy: 0.9481\n",
      "Epoch 7/10\n",
      "20/20 [==============================] - 20s 1s/step - loss: 0.0089 - accuracy: 1.0000 - val_loss: 0.1501 - val_accuracy: 0.9593\n",
      "Epoch 8/10\n",
      "20/20 [==============================] - 20s 1s/step - loss: 0.0049 - accuracy: 1.0000 - val_loss: 0.1458 - val_accuracy: 0.9593\n",
      "Epoch 9/10\n",
      "20/20 [==============================] - 20s 1s/step - loss: 0.0032 - accuracy: 1.0000 - val_loss: 0.1435 - val_accuracy: 0.9593\n",
      "Epoch 10/10\n",
      "20/20 [==============================] - 20s 1s/step - loss: 0.0024 - accuracy: 1.0000 - val_loss: 0.1431 - val_accuracy: 0.9593\n"
     ]
    },
    {
     "data": {
      "text/plain": [
       "<keras.src.callbacks.History at 0x2831a527ca0>"
      ]
     },
     "execution_count": 7,
     "metadata": {},
     "output_type": "execute_result"
    }
   ],
   "source": [
    "model.fit(X_train, y_train, epochs=10, batch_size=32, validation_split=0.3)"
   ]
  },
  {
   "cell_type": "markdown",
   "id": "a6a6a6e2",
   "metadata": {},
   "source": [
    "# Save the CNN model"
   ]
  },
  {
   "cell_type": "code",
   "execution_count": 8,
   "id": "0f9e07bb",
   "metadata": {
    "scrolled": true
   },
   "outputs": [
    {
     "name": "stderr",
     "output_type": "stream",
     "text": [
      "C:\\Users\\sujit\\AppData\\Roaming\\Python\\Python39\\site-packages\\keras\\src\\engine\\training.py:3079: UserWarning: You are saving your model as an HDF5 file via `model.save()`. This file format is considered legacy. We recommend using instead the native Keras format, e.g. `model.save('my_model.keras')`.\n",
      "  saving_api.save_model(\n"
     ]
    }
   ],
   "source": [
    "model.save(\"breast_cancer_cnn_model1.h5\")"
   ]
  },
  {
   "cell_type": "markdown",
   "id": "3f6a8c94",
   "metadata": {},
   "source": [
    "# Use CNN for feature extraction"
   ]
  },
  {
   "cell_type": "code",
   "execution_count": 9,
   "id": "868db619",
   "metadata": {},
   "outputs": [
    {
     "name": "stdout",
     "output_type": "stream",
     "text": [
      "29/29 [==============================] - 5s 163ms/step\n",
      "13/13 [==============================] - 2s 161ms/step\n"
     ]
    }
   ],
   "source": [
    "X_train_features = model.predict(X_train)\n",
    "X_test_features = model.predict(X_test)"
   ]
  },
  {
   "cell_type": "markdown",
   "id": "e1e13ae9",
   "metadata": {},
   "source": [
    "# SVM model Train"
   ]
  },
  {
   "cell_type": "code",
   "execution_count": 10,
   "id": "8d41f562",
   "metadata": {},
   "outputs": [
    {
     "data": {
      "text/plain": [
       "SVC(kernel='linear')"
      ]
     },
     "execution_count": 10,
     "metadata": {},
     "output_type": "execute_result"
    }
   ],
   "source": [
    "svm_model = SVC(kernel=\"linear\")\n",
    "svm_model.fit(X_train_features, y_train)"
   ]
  },
  {
   "cell_type": "markdown",
   "id": "4a41fb13",
   "metadata": {},
   "source": [
    "# Save the SVM model"
   ]
  },
  {
   "cell_type": "code",
   "execution_count": 11,
   "id": "40d61d3e",
   "metadata": {},
   "outputs": [
    {
     "data": {
      "text/plain": [
       "['breast_cancer_svm_modelNEW1.pkl']"
      ]
     },
     "execution_count": 11,
     "metadata": {},
     "output_type": "execute_result"
    }
   ],
   "source": [
    "joblib.dump(svm_model, \"breast_cancer_svm_modelNEW1.pkl\")"
   ]
  },
  {
   "cell_type": "markdown",
   "id": "31d31147",
   "metadata": {},
   "source": [
    "# SVM Model Test"
   ]
  },
  {
   "cell_type": "code",
   "execution_count": 12,
   "id": "5e46573b",
   "metadata": {},
   "outputs": [],
   "source": [
    "y_pred = svm_model.predict(X_test_features)"
   ]
  },
  {
   "cell_type": "markdown",
   "id": "6ae56948",
   "metadata": {},
   "source": [
    "# Evaluate the model"
   ]
  },
  {
   "cell_type": "code",
   "execution_count": 13,
   "id": "abe7a682",
   "metadata": {},
   "outputs": [
    {
     "name": "stdout",
     "output_type": "stream",
     "text": [
      "Accuracy: 0.9766233766233766\n"
     ]
    }
   ],
   "source": [
    "accuracy = accuracy_score(y_test, y_pred)\n",
    "print(\"Accuracy:\", accuracy)"
   ]
  },
  {
   "cell_type": "markdown",
   "id": "26a37740",
   "metadata": {},
   "source": [
    "# Plot the Confusion Matrix"
   ]
  },
  {
   "cell_type": "code",
   "execution_count": 14,
   "id": "cd9ab999",
   "metadata": {},
   "outputs": [
    {
     "data": {
      "image/png": "[encoded data removed]",
      "text/plain": [
       "<Figure size 600x400 with 2 Axes>"
      ]
     },
     "metadata": {},
     "output_type": "display_data"
    }
   ],
   "source": [
    "import seaborn as sns\n",
    "import matplotlib.pyplot as plt\n",
    "from sklearn.metrics import confusion_matrix\n",
    "\n",
    "# Assuming y_test and y_pred are your true labels and predicted labels, respectively\n",
    "cm = confusion_matrix(y_test, y_pred)\n",
    "\n",
    "# Plot the confusion matrix\n",
    "plt.figure(figsize=(6, 4))\n",
    "sns.heatmap(cm, annot=True, fmt=\"d\", cmap=\"Blues\", annot_kws={\"size\": 16})\n",
    "plt.title('Confusion Matrix')\n",
    "plt.xlabel('Predicted Labels')\n",
    "plt.ylabel('True Labels')\n",
    "plt.show()"
   ]
  },
  {
   "cell_type": "markdown",
   "id": "c1c82917",
   "metadata": {},
   "source": [
    "# Classification report"
   ]
  },
  {
   "cell_type": "code",
   "execution_count": 15,
   "id": "ceae31a9",
   "metadata": {},
   "outputs": [
    {
     "name": "stdout",
     "output_type": "stream",
     "text": [
      "              precision    recall  f1-score   support\n",
      "\n",
      "           0       0.97      0.99      0.98       205\n",
      "           1       0.98      0.97      0.97       180\n",
      "\n",
      "    accuracy                           0.98       385\n",
      "   macro avg       0.98      0.98      0.98       385\n",
      "weighted avg       0.98      0.98      0.98       385\n",
      "\n"
     ]
    }
   ],
   "source": [
    "from sklearn.metrics import classification_report\n",
    "\n",
    "# Print classification report\n",
    "print(classification_report(y_test, y_pred))"
   ]
  },
  {
   "cell_type": "markdown",
   "id": "b82437d4",
   "metadata": {},
   "source": [
    "# Detection on New Data"
   ]
  },
  {
   "cell_type": "code",
   "execution_count": 4,
   "id": "3cc3bdb5",
   "metadata": {},
   "outputs": [
    {
     "name": "stdout",
     "output_type": "stream",
     "text": [
      "8/8 [==============================] - 2s 255ms/step\n",
      "       Original Filename Predicted Label\n",
      "0     PAC_00_DN0-dir.png       unhealthy\n",
      "1     PAC_00_DN1-dir.png       unhealthy\n",
      "2    PAC_00_DN10-dir.png       unhealthy\n",
      "3    PAC_00_DN11-dir.png       unhealthy\n",
      "4    PAC_00_DN12-dir.png       unhealthy\n",
      "..                   ...             ...\n",
      "251   PAC_16_DN7-esq.png         healthy\n",
      "252   PAC_16_DN8-dir.png         healthy\n",
      "253   PAC_16_DN8-esq.png         healthy\n",
      "254   PAC_16_DN9-dir.png         healthy\n",
      "255   PAC_16_DN9-esq.png         healthy\n",
      "\n",
      "[256 rows x 2 columns]\n"
     ]
    }
   ],
   "source": [
    "# Function to load and preprocess new data\n",
    "def load_and_preprocess_new_data(folder_path):\n",
    "    images = []\n",
    "    original_filenames = []  # Store the original filenames\n",
    "\n",
    "    for filename in os.listdir(folder_path):\n",
    "        img_path = os.path.join(folder_path, filename)\n",
    "        if os.path.isfile(img_path) and img_path.endswith(('.png', '.jpg', '.jpeg')):\n",
    "            img = cv2.imread(img_path, cv2.IMREAD_GRAYSCALE)\n",
    "            img = cv2.resize(img, (224, 224))\n",
    "            images.append(img)\n",
    "            original_filenames.append(filename)  # Store the original filename\n",
    "\n",
    "    return np.array(images), original_filenames\n",
    "\n",
    "# Load the new data\n",
    "new_data_folder = \"test dataset\"  # Replace with the path to your new data folder\n",
    "new_data_images, original_filenames = load_and_preprocess_new_data(new_data_folder)\n",
    "\n",
    "# Normalize pixel values\n",
    "new_data_images = new_data_images / 255.0\n",
    "\n",
    "# Load the CNN model\n",
    "cnn_model = load_model(\"breast_cancer_cnn_model1.h5\")\n",
    "\n",
    "# Use CNN for feature extraction on new data\n",
    "new_data_features = cnn_model.predict(new_data_images)\n",
    "\n",
    "# Load the SVM model\n",
    "svm_model = joblib.load(\"breast_cancer_svm_modelNEW1.pkl\")\n",
    "\n",
    "# Use SVM for classification on new data\n",
    "new_data_predictions = svm_model.predict(new_data_features)\n",
    "\n",
    "# Map numeric labels to class names\n",
    "class_names = {0: \"healthy\", 1: \"unhealthy\"}\n",
    "predicted_labels = [class_names[label] for label in new_data_predictions]\n",
    "\n",
    "# Create a table with original filenames\n",
    "output_table = {'Original Filename': original_filenames, 'Predicted Label': predicted_labels}\n",
    "output_df = pd.DataFrame(output_table)\n",
    "\n",
    "# Display the output table\n",
    "print(output_df)"
   ]
  },
  {
   "cell_type": "code",
   "execution_count": 5,
   "id": "a2411d01",
   "metadata": {},
   "outputs": [
    {
     "name": "stdout",
     "output_type": "stream",
     "text": [
      "2/2 [==============================] - 1s 142ms/step\n",
      "     Original Filename Predicted Label\n",
      "0      healthy (1).png         healthy\n",
      "1     healthy (10).png         healthy\n",
      "2     healthy (11).png         healthy\n",
      "3     healthy (12).png         healthy\n",
      "4     healthy (13).png         healthy\n",
      "5     healthy (14).png         healthy\n",
      "6     healthy (15).png         healthy\n",
      "7     healthy (16).png         healthy\n",
      "8     healthy (17).png         healthy\n",
      "9     healthy (18).png         healthy\n",
      "10    healthy (19).png         healthy\n",
      "11     healthy (2).png         healthy\n",
      "12    healthy (20).png         healthy\n",
      "13    healthy (21).png         healthy\n",
      "14    healthy (22).png         healthy\n",
      "15    healthy (23).png         healthy\n",
      "16    healthy (24).png         healthy\n",
      "17    healthy (25).png         healthy\n",
      "18    healthy (26).png         healthy\n",
      "19    healthy (27).png         healthy\n",
      "20    healthy (28).png         healthy\n",
      "21    healthy (29).png       unhealthy\n",
      "22     healthy (3).png         healthy\n",
      "23    healthy (30).png         healthy\n",
      "24     healthy (4).png         healthy\n",
      "25     healthy (5).png         healthy\n",
      "26     healthy (6).png         healthy\n",
      "27     healthy (7).png         healthy\n",
      "28     healthy (8).png         healthy\n",
      "29     healthy (9).png         healthy\n",
      "30   unhealthy (1).png       unhealthy\n",
      "31  unhealthy (10).png       unhealthy\n",
      "32  unhealthy (11).png       unhealthy\n",
      "33  unhealthy (12).png       unhealthy\n",
      "34  unhealthy (13).png       unhealthy\n",
      "35  unhealthy (14).png       unhealthy\n",
      "36  unhealthy (15).png       unhealthy\n",
      "37  unhealthy (16).png       unhealthy\n",
      "38  unhealthy (17).png       unhealthy\n",
      "39  unhealthy (18).png       unhealthy\n",
      "40  unhealthy (19).png       unhealthy\n",
      "41   unhealthy (2).png       unhealthy\n",
      "42  unhealthy (20).png       unhealthy\n",
      "43  unhealthy (21).png       unhealthy\n",
      "44  unhealthy (22).png       unhealthy\n",
      "45  unhealthy (23).png       unhealthy\n",
      "46  unhealthy (24).png       unhealthy\n",
      "47  unhealthy (25).png       unhealthy\n",
      "48  unhealthy (26).png       unhealthy\n",
      "49  unhealthy (27).png       unhealthy\n",
      "50  unhealthy (28).png       unhealthy\n",
      "51  unhealthy (29).png       unhealthy\n",
      "52   unhealthy (3).png       unhealthy\n",
      "53  unhealthy (30).png       unhealthy\n",
      "54   unhealthy (4).png       unhealthy\n",
      "55   unhealthy (5).png       unhealthy\n",
      "56   unhealthy (6).png       unhealthy\n",
      "57   unhealthy (7).png       unhealthy\n",
      "58   unhealthy (8).png       unhealthy\n",
      "59   unhealthy (9).png       unhealthy\n"
     ]
    }
   ],
   "source": [
    "# Function to load and preprocess new data\n",
    "def load_and_preprocess_new_data(folder_path):\n",
    "    images = []\n",
    "    original_filenames = []  # Store the original filenames\n",
    "\n",
    "    for filename in os.listdir(folder_path):\n",
    "        img_path = os.path.join(folder_path, filename)\n",
    "        if os.path.isfile(img_path) and img_path.endswith(('.png', '.jpg', '.jpeg')):\n",
    "            img = cv2.imread(img_path, cv2.IMREAD_GRAYSCALE)\n",
    "            img = cv2.resize(img, (224, 224))\n",
    "            images.append(img)\n",
    "            original_filenames.append(filename)  # Store the original filename\n",
    "\n",
    "    return np.array(images), original_filenames\n",
    "\n",
    "# Load the new data\n",
    "new_data_folder = \"test dataset1\"  # Replace with the path to your new data folder\n",
    "new_data_images, original_filenames = load_and_preprocess_new_data(new_data_folder)\n",
    "\n",
    "# Normalize pixel values\n",
    "new_data_images = new_data_images / 255.0\n",
    "\n",
    "# Load the CNN model\n",
    "cnn_model = load_model(\"breast_cancer_cnn_model1.h5\")\n",
    "\n",
    "# Use CNN for feature extraction on new data\n",
    "new_data_features = cnn_model.predict(new_data_images)\n",
    "\n",
    "# Load the SVM model\n",
    "svm_model = joblib.load(\"breast_cancer_svm_modelNEW1.pkl\")\n",
    "\n",
    "# Use SVM for classification on new data\n",
    "new_data_predictions = svm_model.predict(new_data_features)\n",
    "\n",
    "# Map numeric labels to class names\n",
    "class_names = {0: \"healthy\", 1: \"unhealthy\"}\n",
    "predicted_labels = [class_names[label] for label in new_data_predictions]\n",
    "\n",
    "# Create a table with original filenames\n",
    "output_table = {'Original Filename': original_filenames, 'Predicted Label': predicted_labels}\n",
    "output_df = pd.DataFrame(output_table)\n",
    "\n",
    "# Display the output table\n",
    "print(output_df)"
   ]
  },
  {
   "cell_type": "code",
   "execution_count": null,
   "id": "fbdae815",
   "metadata": {},
   "outputs": [],
   "source": []
  }
 ],
 "metadata": {
  "kernelspec": {
   "display_name": "Python 3 (ipykernel)",
   "language": "python",
   "name": "python3"
  },
  "language_info": {
   "codemirror_mode": {
    "name": "ipython",
    "version": 3
   },
   "file_extension": ".py",
   "mimetype": "text/x-python",
   "name": "python",
   "nbconvert_exporter": "python",
   "pygments_lexer": "ipython3",
   "version": "3.9.13"
  }
 },
 "nbformat": 4,
 "nbformat_minor": 5
}
